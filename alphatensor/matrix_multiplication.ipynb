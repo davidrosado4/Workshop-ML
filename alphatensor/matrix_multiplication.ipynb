{
  "nbformat": 4,
  "nbformat_minor": 0,
  "metadata": {
    "colab": {
      "provenance": []
    },
    "kernelspec": {
      "name": "python3",
      "display_name": "Python 3"
    },
    "language_info": {
      "name": "python"
    }
  },
  "cells": [
    {
      "cell_type": "markdown",
      "source": [
        "# AlphaTensor algorithm for matrix multiplication\n"
      ],
      "metadata": {
        "id": "Y1KVuV-ZIdl4"
      }
    },
    {
      "cell_type": "markdown",
      "source": [
        "First of all, let us import the algorithm discovered by AlphaTensor, represented as factorizations of matrix multiplication tensors."
      ],
      "metadata": {
        "id": "IBrRe_mxIuMf"
      }
    },
    {
      "cell_type": "markdown",
      "source": [
        "## Tensor decomposition"
      ],
      "metadata": {
        "id": "N0SPx57CJaqC"
      }
    },
    {
      "cell_type": "code",
      "execution_count": 15,
      "metadata": {
        "id": "3R25u8wH1UGr"
      },
      "outputs": [],
      "source": [
        "# Import necessary libraries\n",
        "import numpy as np\n",
        "from google.colab import files"
      ]
    },
    {
      "cell_type": "markdown",
      "source": [
        "Upload the provided file to work in standard arithmetic. "
      ],
      "metadata": {
        "id": "KvPVr3ySJuqt"
      }
    },
    {
      "cell_type": "code",
      "source": [
        "uploaded = files.upload()\n",
        "filename = list(uploaded.keys())[0]\n",
        "with open(filename, 'rb') as f:\n",
        "  factorizations = dict(np.load(f, allow_pickle=True))"
      ],
      "metadata": {
        "colab": {
          "base_uri": "https://localhost:8080/",
          "height": 74
        },
        "id": "WrXu6Nn_4vxL",
        "outputId": "29ae11a3-cdb0-45d6-a8fb-39bce05e1e5d"
      },
      "execution_count": 16,
      "outputs": [
        {
          "output_type": "display_data",
          "data": {
            "text/plain": [
              "<IPython.core.display.HTML object>"
            ],
            "text/html": [
              "\n",
              "     <input type=\"file\" id=\"files-fd650506-66cb-49ec-b16a-264ad7514830\" name=\"files[]\" multiple disabled\n",
              "        style=\"border:none\" />\n",
              "     <output id=\"result-fd650506-66cb-49ec-b16a-264ad7514830\">\n",
              "      Upload widget is only available when the cell has been executed in the\n",
              "      current browser session. Please rerun this cell to enable.\n",
              "      </output>\n",
              "      <script>// Copyright 2017 Google LLC\n",
              "//\n",
              "// Licensed under the Apache License, Version 2.0 (the \"License\");\n",
              "// you may not use this file except in compliance with the License.\n",
              "// You may obtain a copy of the License at\n",
              "//\n",
              "//      http://www.apache.org/licenses/LICENSE-2.0\n",
              "//\n",
              "// Unless required by applicable law or agreed to in writing, software\n",
              "// distributed under the License is distributed on an \"AS IS\" BASIS,\n",
              "// WITHOUT WARRANTIES OR CONDITIONS OF ANY KIND, either express or implied.\n",
              "// See the License for the specific language governing permissions and\n",
              "// limitations under the License.\n",
              "\n",
              "/**\n",
              " * @fileoverview Helpers for google.colab Python module.\n",
              " */\n",
              "(function(scope) {\n",
              "function span(text, styleAttributes = {}) {\n",
              "  const element = document.createElement('span');\n",
              "  element.textContent = text;\n",
              "  for (const key of Object.keys(styleAttributes)) {\n",
              "    element.style[key] = styleAttributes[key];\n",
              "  }\n",
              "  return element;\n",
              "}\n",
              "\n",
              "// Max number of bytes which will be uploaded at a time.\n",
              "const MAX_PAYLOAD_SIZE = 100 * 1024;\n",
              "\n",
              "function _uploadFiles(inputId, outputId) {\n",
              "  const steps = uploadFilesStep(inputId, outputId);\n",
              "  const outputElement = document.getElementById(outputId);\n",
              "  // Cache steps on the outputElement to make it available for the next call\n",
              "  // to uploadFilesContinue from Python.\n",
              "  outputElement.steps = steps;\n",
              "\n",
              "  return _uploadFilesContinue(outputId);\n",
              "}\n",
              "\n",
              "// This is roughly an async generator (not supported in the browser yet),\n",
              "// where there are multiple asynchronous steps and the Python side is going\n",
              "// to poll for completion of each step.\n",
              "// This uses a Promise to block the python side on completion of each step,\n",
              "// then passes the result of the previous step as the input to the next step.\n",
              "function _uploadFilesContinue(outputId) {\n",
              "  const outputElement = document.getElementById(outputId);\n",
              "  const steps = outputElement.steps;\n",
              "\n",
              "  const next = steps.next(outputElement.lastPromiseValue);\n",
              "  return Promise.resolve(next.value.promise).then((value) => {\n",
              "    // Cache the last promise value to make it available to the next\n",
              "    // step of the generator.\n",
              "    outputElement.lastPromiseValue = value;\n",
              "    return next.value.response;\n",
              "  });\n",
              "}\n",
              "\n",
              "/**\n",
              " * Generator function which is called between each async step of the upload\n",
              " * process.\n",
              " * @param {string} inputId Element ID of the input file picker element.\n",
              " * @param {string} outputId Element ID of the output display.\n",
              " * @return {!Iterable<!Object>} Iterable of next steps.\n",
              " */\n",
              "function* uploadFilesStep(inputId, outputId) {\n",
              "  const inputElement = document.getElementById(inputId);\n",
              "  inputElement.disabled = false;\n",
              "\n",
              "  const outputElement = document.getElementById(outputId);\n",
              "  outputElement.innerHTML = '';\n",
              "\n",
              "  const pickedPromise = new Promise((resolve) => {\n",
              "    inputElement.addEventListener('change', (e) => {\n",
              "      resolve(e.target.files);\n",
              "    });\n",
              "  });\n",
              "\n",
              "  const cancel = document.createElement('button');\n",
              "  inputElement.parentElement.appendChild(cancel);\n",
              "  cancel.textContent = 'Cancel upload';\n",
              "  const cancelPromise = new Promise((resolve) => {\n",
              "    cancel.onclick = () => {\n",
              "      resolve(null);\n",
              "    };\n",
              "  });\n",
              "\n",
              "  // Wait for the user to pick the files.\n",
              "  const files = yield {\n",
              "    promise: Promise.race([pickedPromise, cancelPromise]),\n",
              "    response: {\n",
              "      action: 'starting',\n",
              "    }\n",
              "  };\n",
              "\n",
              "  cancel.remove();\n",
              "\n",
              "  // Disable the input element since further picks are not allowed.\n",
              "  inputElement.disabled = true;\n",
              "\n",
              "  if (!files) {\n",
              "    return {\n",
              "      response: {\n",
              "        action: 'complete',\n",
              "      }\n",
              "    };\n",
              "  }\n",
              "\n",
              "  for (const file of files) {\n",
              "    const li = document.createElement('li');\n",
              "    li.append(span(file.name, {fontWeight: 'bold'}));\n",
              "    li.append(span(\n",
              "        `(${file.type || 'n/a'}) - ${file.size} bytes, ` +\n",
              "        `last modified: ${\n",
              "            file.lastModifiedDate ? file.lastModifiedDate.toLocaleDateString() :\n",
              "                                    'n/a'} - `));\n",
              "    const percent = span('0% done');\n",
              "    li.appendChild(percent);\n",
              "\n",
              "    outputElement.appendChild(li);\n",
              "\n",
              "    const fileDataPromise = new Promise((resolve) => {\n",
              "      const reader = new FileReader();\n",
              "      reader.onload = (e) => {\n",
              "        resolve(e.target.result);\n",
              "      };\n",
              "      reader.readAsArrayBuffer(file);\n",
              "    });\n",
              "    // Wait for the data to be ready.\n",
              "    let fileData = yield {\n",
              "      promise: fileDataPromise,\n",
              "      response: {\n",
              "        action: 'continue',\n",
              "      }\n",
              "    };\n",
              "\n",
              "    // Use a chunked sending to avoid message size limits. See b/62115660.\n",
              "    let position = 0;\n",
              "    do {\n",
              "      const length = Math.min(fileData.byteLength - position, MAX_PAYLOAD_SIZE);\n",
              "      const chunk = new Uint8Array(fileData, position, length);\n",
              "      position += length;\n",
              "\n",
              "      const base64 = btoa(String.fromCharCode.apply(null, chunk));\n",
              "      yield {\n",
              "        response: {\n",
              "          action: 'append',\n",
              "          file: file.name,\n",
              "          data: base64,\n",
              "        },\n",
              "      };\n",
              "\n",
              "      let percentDone = fileData.byteLength === 0 ?\n",
              "          100 :\n",
              "          Math.round((position / fileData.byteLength) * 100);\n",
              "      percent.textContent = `${percentDone}% done`;\n",
              "\n",
              "    } while (position < fileData.byteLength);\n",
              "  }\n",
              "\n",
              "  // All done.\n",
              "  yield {\n",
              "    response: {\n",
              "      action: 'complete',\n",
              "    }\n",
              "  };\n",
              "}\n",
              "\n",
              "scope.google = scope.google || {};\n",
              "scope.google.colab = scope.google.colab || {};\n",
              "scope.google.colab._files = {\n",
              "  _uploadFiles,\n",
              "  _uploadFilesContinue,\n",
              "};\n",
              "})(self);\n",
              "</script> "
            ]
          },
          "metadata": {}
        },
        {
          "output_type": "stream",
          "name": "stdout",
          "text": [
            "Saving factorizations_r.npz to factorizations_r (1).npz\n"
          ]
        }
      ]
    },
    {
      "cell_type": "code",
      "source": [
        "# Print available factorizations and their shapes.\n",
        "for key in factorizations:\n",
        "  u, v, w = factorizations[key]\n",
        "  rank = u.shape[-1]\n",
        "  assert rank == v.shape[-1] and rank == w.shape[-1]\n",
        "  print(f'{key}: rank={u.shape[-1]}')"
      ],
      "metadata": {
        "id": "sd8LWBlv4zYf",
        "colab": {
          "base_uri": "https://localhost:8080/"
        },
        "outputId": "81a577fa-a74a-4b54-ebcb-dc97a3bae4cf"
      },
      "execution_count": 17,
      "outputs": [
        {
          "output_type": "stream",
          "name": "stdout",
          "text": [
            "2,2,2: rank=7\n",
            "2,2,3: rank=11\n",
            "2,2,4: rank=14\n",
            "2,2,5: rank=18\n",
            "2,2,6: rank=21\n",
            "2,2,7: rank=25\n",
            "2,2,8: rank=28\n",
            "2,3,3: rank=15\n",
            "2,3,4: rank=20\n",
            "2,3,5: rank=25\n",
            "2,4,4: rank=26\n",
            "2,4,5: rank=33\n",
            "2,5,5: rank=40\n",
            "3,3,3: rank=23\n",
            "3,3,4: rank=29\n",
            "3,3,5: rank=36\n",
            "3,4,4: rank=38\n",
            "3,4,5: rank=47\n",
            "3,4,11: rank=103\n",
            "3,5,5: rank=58\n",
            "3,5,9: rank=105\n",
            "3,9,11: rank=225\n",
            "4,4,4: rank=49\n",
            "4,4,5: rank=63\n",
            "4,5,5: rank=76\n",
            "4,5,9: rank=139\n",
            "4,5,10: rank=152\n",
            "4,5,11: rank=169\n",
            "4,9,10: rank=255\n",
            "4,9,11: rank=280\n",
            "4,11,11: rank=343\n",
            "4,11,12: rank=366\n",
            "5,5,5: rank=98\n",
            "5,5,7: rank=134\n",
            "5,7,9: rank=234\n",
            "5,7,10: rank=257\n",
            "5,7,11: rank=280\n",
            "5,8,9: rank=262\n",
            "5,8,10: rank=287\n",
            "5,8,11: rank=317\n",
            "5,9,9: rank=296\n",
            "5,9,10: rank=323\n",
            "5,9,11: rank=358\n",
            "5,9,12: rank=381\n",
            "6,7,9: rank=270\n",
            "6,7,10: rank=296\n",
            "6,7,11: rank=322\n",
            "6,8,10: rank=329\n",
            "6,8,11: rank=365\n",
            "6,9,9: rank=342\n",
            "6,9,10: rank=373\n",
            "6,9,11: rank=411\n",
            "7,7,9: rank=318\n",
            "7,7,10: rank=350\n",
            "7,7,11: rank=384\n",
            "7,8,9: rank=354\n",
            "7,8,10: rank=393\n",
            "7,8,11: rank=432\n",
            "7,8,12: rank=462\n",
            "7,9,9: rank=399\n",
            "7,9,10: rank=441\n",
            "7,9,11: rank=481\n",
            "7,9,12: rank=510\n",
            "7,10,10: rank=478\n",
            "7,10,11: rank=536\n",
            "7,11,11: rank=582\n",
            "8,8,10: rank=441\n",
            "8,8,11: rank=489\n",
            "8,9,10: rank=489\n",
            "8,9,11: rank=533\n",
            "8,9,12: rank=560\n",
            "8,10,10: rank=532\n",
            "8,10,11: rank=596\n",
            "8,10,12: rank=636\n",
            "8,11,11: rank=649\n",
            "8,11,12: rank=691\n",
            "9,9,9: rank=498\n",
            "9,9,10: rank=534\n",
            "9,9,11: rank=576\n",
            "9,10,10: rank=606\n",
            "9,10,11: rank=657\n",
            "9,10,12: rank=696\n",
            "9,11,11: rank=725\n",
            "9,11,12: rank=760\n",
            "10,10,10: rank=682\n",
            "10,10,11: rank=746\n",
            "10,10,12: rank=798\n",
            "10,11,11: rank=821\n",
            "10,11,12: rank=874\n",
            "10,12,12: rank=928\n",
            "11,11,11: rank=896\n",
            "11,11,12: rank=941\n",
            "11,12,12: rank=990\n"
          ]
        }
      ]
    },
    {
      "cell_type": "code",
      "source": [
        "# Get the tensor decomposition\n",
        "def get_mamu_tensor_rectangular(a: int, b: int, c: int) -> np.ndarray:\n",
        "  \"\"\"Returns the symmetrized matrix multiplication tensor T_{a, b, c}.\"\"\"\n",
        "  result = np.full((a*b, b*c, c*a), 0, dtype=np.int32)\n",
        "  for i in range(a):\n",
        "    for j in range(b):\n",
        "      for k in range(c):\n",
        "        result[i * b  + j][j * c + k][k * a + i] = 1\n",
        "  return result\n",
        "\n",
        "\n",
        "# Test correctness of a factorization.\n",
        "tensor = get_mamu_tensor_rectangular(4, 4, 4)\n",
        "u, v, w = factorizations['4,4,4']\n",
        "reconstruction = np.einsum('ir,jr,kr->ijk', u, v, w)\n",
        "if np.array_equal(tensor, reconstruction):\n",
        "  print('Factorization is correct in R (standard arithmetic).')\n",
        "elif np.array_equal(tensor, np.mod(reconstruction, 2)):\n",
        "  print('Factorization is correct in F2 (modular arithmetic).')\n",
        "else:\n",
        "  print('Factorization is incorrect.')"
      ],
      "metadata": {
        "id": "oezvrLLD40Fn",
        "colab": {
          "base_uri": "https://localhost:8080/"
        },
        "outputId": "28ca2b53-5eaa-41da-8bf9-a910b600a4de"
      },
      "execution_count": 18,
      "outputs": [
        {
          "output_type": "stream",
          "name": "stdout",
          "text": [
            "Factorization is correct in R (standard arithmetic).\n"
          ]
        }
      ]
    },
    {
      "cell_type": "markdown",
      "source": [
        "## From tensor decomposition to the result"
      ],
      "metadata": {
        "id": "Hhnx1MXeJ9HW"
      }
    },
    {
      "cell_type": "markdown",
      "source": [
        "Once we have the tensor decomposition, we can multiply two matrices. Let us see an example of $4\\times 4$ matrices."
      ],
      "metadata": {
        "id": "qLioJ6ASKEFD"
      }
    },
    {
      "cell_type": "code",
      "source": [
        "n2 = u.shape[0]\n",
        "R = u.shape[1]"
      ],
      "metadata": {
        "id": "mFVFBwhf5pii"
      },
      "execution_count": 19,
      "outputs": []
    },
    {
      "cell_type": "code",
      "source": [
        "# Definition of example matrices\n",
        "A = np.asarray([\n",
        "     [2, 32.2, 0, -1],\n",
        "     [0, 343, 0, -213],\n",
        "     [2, -4, 2, 0],\n",
        "     [0, 43.1, 0, -2]]).reshape(16)\n",
        "\n",
        "B = np.asarray([\n",
        "     [1, 0, -139, 0],\n",
        "     [32, 2, 0, 41],\n",
        "     [0, -43.3, 3, 0],\n",
        "     [1, 0.001, 0, 4]]).reshape(16)"
      ],
      "metadata": {
        "id": "Un52AVqF-dk1"
      },
      "execution_count": 20,
      "outputs": []
    },
    {
      "cell_type": "code",
      "source": [
        "# Algorithm alphaTensor to multiply A x B\n",
        "m = []\n",
        "for r in range(R):\n",
        "  m.append(np.dot(u[:, r], A) * np.dot(v[:, r], B))\n",
        "\n",
        "C = []\n",
        "for i in range(n2):\n",
        "  C.append(np.dot(w[i,:], m))\n",
        "\n",
        "C = np.asarray(C).reshape(4,4).T\n",
        "\n",
        "\n",
        "print(C)"
      ],
      "metadata": {
        "colab": {
          "base_uri": "https://localhost:8080/"
        },
        "id": "v1wGaofKADNJ",
        "outputId": "2fc1098d-e5c5-49d7-a58a-e3e468f90af8"
      },
      "execution_count": 21,
      "outputs": [
        {
          "output_type": "stream",
          "name": "stdout",
          "text": [
            "[[ 1.03140000e+03  6.43990000e+01 -2.78000000e+02  1.31620000e+03]\n",
            " [ 1.07630000e+04  6.85787000e+02 -3.63797881e-12  1.32110000e+04]\n",
            " [-1.26000000e+02 -9.46000000e+01 -2.72000000e+02 -1.64000000e+02]\n",
            " [ 1.37720000e+03  8.61980000e+01  0.00000000e+00  1.75910000e+03]]\n"
          ]
        }
      ]
    },
    {
      "cell_type": "code",
      "source": [
        "# Usual algorithm to multiply A x B\n",
        "np.dot(A.reshape(4,4), B.reshape(4,4))"
      ],
      "metadata": {
        "colab": {
          "base_uri": "https://localhost:8080/"
        },
        "id": "01zCFfuECAyc",
        "outputId": "d5555b7d-7da7-40f0-d436-cb2c0f974f79"
      },
      "execution_count": 23,
      "outputs": [
        {
          "output_type": "execute_result",
          "data": {
            "text/plain": [
              "array([[ 1031.4  ,    64.399,  -278.   ,  1316.2  ],\n",
              "       [10763.   ,   685.787,     0.   , 13211.   ],\n",
              "       [ -126.   ,   -94.6  ,  -272.   ,  -164.   ],\n",
              "       [ 1377.2  ,    86.198,     0.   ,  1759.1  ]])"
            ]
          },
          "metadata": {},
          "execution_count": 23
        }
      ]
    }
  ]
}